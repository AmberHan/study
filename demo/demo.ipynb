{
 "metadata": {
  "language_info": {
   "codemirror_mode": {
    "name": "ipython",
    "version": 3
   },
   "file_extension": ".py",
   "mimetype": "text/x-python",
   "name": "python",
   "nbconvert_exporter": "python",
   "pygments_lexer": "ipython3",
   "version": "3.6.7-final"
  },
  "orig_nbformat": 2,
  "kernelspec": {
   "name": "python36764bita6160d89142c4f3c8af2bd90534491c1",
   "display_name": "Python 3.6.7 64-bit"
  }
 },
 "nbformat": 4,
 "nbformat_minor": 2,
 "cells": [
  {
   "cell_type": "code",
   "execution_count": null,
   "metadata": {},
   "outputs": [],
   "source": [
    "import numpy as np\n",
    "import pandas as pd\n",
    "import matplotlib.pyplot as plt\n",
    "import seaborn as sns\n",
    "from scipy import stats\n",
    "import warnings\n",
    "warnings.filterwarnings(\"ignore\")\n",
    "%matplotlib inline"
   ]
  },
  {
   "cell_type": "code",
   "execution_count": null,
   "metadata": {},
   "outputs": [],
   "source": [
    "train_data_file = \"../data/zhengqi_train.txt\"\n",
    "test_data_file = \"../data/zhengqi_test.txt\"\n",
    "\n",
    "train_data = pd.read_csv(train_data_file, sep='\\t', encoding='utf-8')\n",
    "test_data = pd.read_csv(test_data_file, sep='\\t', encoding='utf-8')"
   ]
  },
  {
   "cell_type": "code",
   "execution_count": null,
   "metadata": {},
   "outputs": [],
   "source": [
    "# 查看数据的基本信息，是否有缺失值，数据类型等等\n",
    "train_data.info()\n",
    "test_data.info()"
   ]
  },
  {
   "cell_type": "code",
   "execution_count": null,
   "metadata": {},
   "outputs": [],
   "source": [
    "# 查看统计后数据的数目，均值，最大最小值\n",
    "train_data.describe()\n",
    "test_data.describe()"
   ]
  },
  {
   "cell_type": "code",
   "execution_count": null,
   "metadata": {},
   "outputs": [],
   "source": [
    "train_data.head()\n",
    "test_data.head()"
   ]
  },
  {
   "cell_type": "code",
   "execution_count": null,
   "metadata": {},
   "outputs": [],
   "source": [
    "# fig = plt.figure(figsize=(4,6))\n",
    "# sns.boxplot(train_data['V0'], orient=\"v\",width=0.5)\n",
    "# 箱型图，上四分线，下四分线\n",
    "#列表头\n",
    "column = train_data.columns.tolist()[:39]\n",
    "fig = plt.figure(figsize=(80,60),dpi=75)\n",
    "for i in range(38):\n",
    "    plt.subplot(7,8,i+1)\n",
    "    sns.boxplot(train_data[column[i]],orient=\"v\",width=0.5)\n",
    "    plt.ylabel(column[i],fontsize=36)"
   ]
  },
  {
   "cell_type": "code",
   "execution_count": null,
   "metadata": {},
   "outputs": [],
   "source": [
    "# 所有变量的直方图 以及 Q-Q图（通过比较数据和正态分布的分位数是否相等）\n",
    "plt.figure(figsize=(10,5))\n",
    "ax = plt.subplot(1,2,1)\n",
    "sns.distplot(train_data['V0'],fit=stats.norm)\n",
    "ax = plt.subplot(1,2,2)\n",
    "res = stats.probplot(train_data['V0'],plot = plt)\n"
   ]
  },
  {
   "cell_type": "code",
   "execution_count": null,
   "metadata": {},
   "outputs": [],
   "source": [
    "train_cols = 6\n",
    "train_rows = len(train_data.columns)\n",
    "plt.figure(figsize=(4*train_cols,6*train_rows))\n",
    "i = 0\n",
    "for col in train_data.columns:\n",
    "    i += 1\n",
    "    ax = plt.subplot(train_rows,train_cols,i)\n",
    "    sns.distplot(train_data[col],fit=stats.norm)\n",
    "    \n",
    "    i += 1\n",
    "    ax = plt.subplot(train_rows,train_cols,i)\n",
    "    res = stats.probplot(train_data[col],plot=plt)"
   ]
  },
  {
   "cell_type": "code",
   "execution_count": null,
   "metadata": {},
   "outputs": [],
   "source": [
    "# KDE分布图,核密度估计图，查看训练集和测试集的分布情况\n",
    "plt.figure(figsize=(8,4),dpi=150)\n",
    "ax = sns.kdeplot(train_data['V0'],color=\"Red\",shade=True)\n",
    "ax = sns.kdeplot(test_data['V0'],color=\"Blue\",shade=True)\n",
    "ax.set_xlabel('V0')\n",
    "ax.set_ylabel(\"Frequency\")\n",
    "ax = ax.legend([\"train\",\"test\"])"
   ]
  },
  {
   "cell_type": "code",
   "execution_count": null,
   "metadata": {},
   "outputs": [],
   "source": [
    "dist_cols = 6\n",
    "dist_rows = len(test_data.columns)\n",
    "plt.figure(figsize=(4*dist_cols,4*dist_rows))\n",
    "i = 1\n",
    "for col in test_data.columns:\n",
    "    ax = plt.subplot(dist_rows,dist_cols,i)\n",
    "    ax = sns.kdeplot(train_data[col],color=\"Red\",shade=True)\n",
    "    ax = sns.kdeplot(test_data[col],color=\"Green\",shade=True)\n",
    "    ax.set_xlabel(col)\n",
    "    ax.set_ylabel(\"Frequency\")\n",
    "    ax = ax.legend([\"Train\",\"Test\"])\n",
    "    i += 1\n"
   ]
  },
  {
   "cell_type": "code",
   "execution_count": null,
   "metadata": {},
   "outputs": [],
   "source": [
    "# 线性回归关系图，分析变量间的线性关系\n",
    "fcols = 2\n",
    "frows = 1\n",
    "plt.figure(figsize=(8,4),dpi=150)\n",
    "ax = plt.subplot(1,2,1)\n",
    "sns.regplot(x='V0',y='target',data=train_data,ax=ax,\n",
    "            scatter_kws={'marker':'.','s':3,'alpha':0.3},line_kws={'color':'k'})\n",
    "plt.xlabel('V0')\n",
    "plt.ylabel('Target')\n",
    "\n",
    "ax = plt.subplot(1,2,2)\n",
    "sns.distplot(train_data['V0'].dropna())\n",
    "plt.xlabel('V0')\n",
    "plt.show()"
   ]
  },
  {
   "cell_type": "code",
   "execution_count": null,
   "metadata": {},
   "outputs": [],
   "source": [
    "fcols = 6\n",
    "frows = len(test_data.columns)\n",
    "plt.figure(figsize=(5*fcols,4*frows))\n",
    "\n",
    "i = 0\n",
    "for col in test_data.columns:\n",
    "    i += 1\n",
    "    ax = plt.subplot(frows,fcols,i)\n",
    "    sns.regplot(x=col,y='target',data=train_data,ax=ax,\n",
    "    scatter={'marker':'.','s':3,'alpha':0.3},\n",
    "    line_kws={'color':'k'})\n",
    "    plt.xlabel(col)\n",
    "    plt.ylabel('target')\n",
    "    i += 1\n",
    "    ax = plt.subplot(frows,fcols,i)\n",
    "    sns.distplot(train_data[col].dropna())\n",
    "    plt.xlabel(col)"
   ]
  },
  {
   "cell_type": "code",
   "execution_count": null,
   "metadata": {},
   "outputs": [],
   "source": [
    "# 查看特征变量的相关性;主要用于判断线性相关\n",
    "# 0-0.09无关;0.1-0.3弱相关;0.3-0.5中等相关；0.5-1强相关\n",
    "pd.set_option('display.max_columns',10)\n",
    "pd.set_option('display.max_rows',10)\n",
    "data_train1 = train_data.drop(['V5','V9','V11','V17','V22','V28'],axis=1)\n",
    "train_corr = data_train1.corr()\n",
    "# print(train_corr)\n",
    "ax = plt.subplots(figsize=(20,16))\n",
    "ax = sns.heatmap(train_corr,vmax=.8,square=True,annot=True)\n",
    "annot = True"
   ]
  },
  {
   "cell_type": "code",
   "execution_count": null,
   "metadata": {},
   "outputs": [],
   "source": [
    "k = 10\n",
    "cols = train_corr.nlargest(k,'target')['target'].index\n",
    "# cm = np.corrcoef(train_data[cols].values.T)\n",
    "# print(cm)\n",
    "hm = plt.subplots(figsize=(10,10))\n",
    "hm = sns.heatmap(train_data[cols].corr(),annot=True,square=True)\n",
    "# plt.show"
   ]
  },
  {
   "cell_type": "code",
   "execution_count": null,
   "metadata": {},
   "outputs": [],
   "source": [
    "threshold = 0.5\n",
    "corrmat = train_data.corr()\n",
    "top_corr_features = corrmat.index[abs(corrmat[\"target\"])>threshold] \n",
    "# print(top_corr_features)\n",
    "plt.figure(figsize=(10,10))\n",
    "g = sns.heatmap(train_data[top_corr_features].corr(),annot =True,cmap=\"RdYlGn\")"
   ]
  },
  {
   "cell_type": "code",
   "execution_count": null,
   "metadata": {},
   "outputs": [],
   "source": [
    "# 相关系数矩阵的运算\n",
    "corr_matrix = data_train1.corr().abs()\n",
    "drop_col = corr_matrix[corr_matrix[\"target\"] < threshold].index\n",
    "# data_all.drop(drop_col,axis = 1,inplace =True)"
   ]
  },
  {
   "cell_type": "code",
   "execution_count": null,
   "metadata": {},
   "outputs": [],
   "source": [
    "# box-cox变换，1：数据归一化处理\n",
    "drop_columns = ['V5','V9','V11','V17','V22','V28']\n",
    "train_x = train_data.drop(['target'],axis=1)\n",
    "# data_all = pd.concat([train_data,test_data],axis=0,ignore_index=True)\n",
    "data_all = pd.concat([train_data,test_data])\n",
    "data_all.drop(drop_columns,axis=1,inplace=True)\n",
    "data_all.head()\n",
    "cols_numeric = list(data_all.columns)\n",
    "\n",
    "def scale_minmax(col):\n",
    "    return (col-col.min())/(col.max()-col.min())\n",
    "\n",
    "data_all[cols_numeric]=data_all[cols_numeric].apply(scale_minmax,axis=0)\n",
    "data_all[cols_numeric].describe()"
   ]
  },
  {
   "cell_type": "code",
   "execution_count": null,
   "metadata": {},
   "outputs": [],
   "source": [
    "# 特征工程\n",
    "# 异常值分析;箱型图\n",
    "plt.figure(figsize=(18,10))\n",
    "plt.boxplot(x=train_data.values,labels=train_data.columns)\n",
    "plt.hlines([-7.5,7.5],0,40,colors='r')\n",
    "plt.show()"
   ]
  },
  {
   "cell_type": "code",
   "execution_count": null,
   "metadata": {},
   "outputs": [],
   "source": [
    "# 剔除异常值\n",
    "train_data = train_data[train_data['V9']>-7.5]\n",
    "test_data = test_data[test_data['V9']>-7.5]\n",
    "display(train_data.describe())\n",
    "display(test_data.describe())"
   ]
  },
  {
   "cell_type": "code",
   "execution_count": null,
   "metadata": {},
   "outputs": [],
   "source": [
    "# 归一化处理\n",
    "from sklearn import preprocessing\n",
    "features_columns = [col for col in train_data.columns if col not in ['target']]\n",
    "#用已有的训练数据，构建转换器\n",
    "min_max_scaler = preprocessing.MinMaxScaler()\n",
    "min_max_scaler = min_max_scaler.fit(train_data[features_columns])\n",
    "\n",
    "train_data_scaler = min_max_scaler.transform(train_data[features_columns])\n",
    "test_data_scaler = min_max_scaler.transform(test_data[features_columns])\n",
    "\n",
    "train_data_scaler = pd.DataFrame(train_data_scaler)\n",
    "train_data_scaler.columns = features_columns\n",
    "\n",
    "test_data_scaler = pd.DataFrame(test_data_scaler)\n",
    "test_data_scaler.columns = features_columns\n",
    "train_data_scaler['target'] = train_data['target']\n",
    "\n",
    "display(train_data_scaler.describe())\n",
    "display(test_data_scaler.describe())"
   ]
  },
  {
   "cell_type": "code",
   "execution_count": null,
   "metadata": {},
   "outputs": [],
   "source": [
    "drop_col = 6\n",
    "drop_row = 1\n",
    "plt.figure(figsize=(5*drop_col,5*drop_row))\n",
    "\n",
    "for i,col in enumerate([\"V5\",\"V9\",\"V11\",\"V22\",\"V28\"]):\n",
    "    ax = plt.subplot(drop_row,drop_col,i+1)\n",
    "    ax = sns.kdeplot(train_data[col],color='Red',shade=True)\n",
    "    ax = sns.kdeplot(test_data_scaler[col],color='Blue',shade=True)\n",
    "    ax.set_xlabel(col)\n",
    "    ax.set_ylabel('Frequency')\n",
    "    ax = ax.legend([\"train\",\"test\"])\n",
    "plt.show()"
   ]
  },
  {
   "cell_type": "code",
   "execution_count": null,
   "metadata": {},
   "outputs": [],
   "source": [
    "# 去除多重共线性分析\n",
    "# 多重共线性方差膨胀因子\n",
    "from statsmodels.stats.outliers_influence import variance_inflation_factor\n",
    "new_numerical =['V0','V2','V3','V4','V5','V6','V10','V11','V13','V15','V16','V18',\n",
    "                'V19','V20','V22','V24','V30','V31','V37']\n",
    "X = np.matrix(train_data_scaler[new_numerical])\n",
    "VIF_list = [variance_inflation_factor(X,i) for i in range(X.shape[1])]\n",
    "VIF_list"
   ]
  },
  {
   "cell_type": "code",
   "execution_count": null,
   "metadata": {},
   "outputs": [],
   "source": [
    "# 主成分分析，去除多重共线性\n",
    "from sklearn.decomposition import PCA\n",
    "pca = PCA(n_components=0.9)\n",
    "new_train_pca_90 = pca.fit_transform(train_data_scaler.iloc[:,0:-1])\n",
    "new_test_pca_90 = pca.transform(test_data_scaler)\n",
    "new_train_pca_90 = pd.DataFrame(new_train_pca_90)\n",
    "new_test_pca_90 = pd.DataFrame(new_test_pca_90)\n",
    "new_train_pca_90['target'] = train_data_scaler['target']\n",
    "new_train_pca_90.describe()\n",
    "# train_data_scaler.describe()\n"
   ]
  },
  {
   "cell_type": "code",
   "execution_count": null,
   "metadata": {},
   "outputs": [],
   "source": [
    "pca = PCA(n_components=16)\n",
    "new_train_pca_16 = pca.fit_transform(train_data_scaler.iloc[:,0:-1])\n",
    "new_test_pca_16 = pca.transform(test_data_scaler)\n",
    "new_train_pca_16 = pd.DataFrame(new_train_pca_16)\n",
    "new_test_pca_16 = pd.DataFrame(new_test_pca_16)\n",
    "new_train_pca_16['target'] = train_data_scaler['target']\n",
    "new_train_pca_16.describe()"
   ]
  },
  {
   "cell_type": "code",
   "execution_count": null,
   "metadata": {},
   "outputs": [],
   "source": [
    "#线性回归  \n",
    "from sklearn.linear_model import LinearRegression\n",
    "#K近邻回归\n",
    "from sklearn.neighbors import KNeighborsRegressor\n",
    "#决策树回归 \n",
    "from sklearn.tree import DecisionTreeRegressor\n",
    "# 随机森林回归\n",
    "from sklearn.ensemble import RandomForestRegressor\n",
    "# 支持向量回归\n",
    "from sklearn.svm import SVR\n",
    "import lightgbm as lgb\n",
    "\n",
    "# 切分数据和评价指标\n",
    "from sklearn.model_selection import train_test_split\n",
    "from sklearn.metrics import mean_squared_error\n",
    "\n",
    "from sklearn.model_selection import learning_curve\n",
    "from sklearn.model_selection import ShuffleSplit"
   ]
  },
  {
   "cell_type": "code",
   "execution_count": null,
   "metadata": {},
   "outputs": [],
   "source": [
    "# 采用PCA的16维度数据\n",
    "new_train_pca_16 = new_train_pca_16.fillna(0)\n",
    "# print(new_train_pca_16)\n",
    "train = new_train_pca_16[new_test_pca_16.columns]\n",
    "target = new_train_pca_16['target']\n",
    "# 切分数据\n",
    "train_data,test_data,train_target,test_target = train_test_split(train,target,test_size=0.2,random_state=0)"
   ]
  },
  {
   "cell_type": "code",
   "execution_count": null,
   "metadata": {},
   "outputs": [],
   "source": [
    "# 多元线性回归\n",
    "# Q：精度低，可能特征存在共线问题；\n",
    "# 要先归一化处理\n",
    "clf = LinearRegression()\n",
    "clf.fit(train_data,train_target)\n",
    "score = mean_squared_error(test_target,clf.predict(test_data))\n",
    "print(\"多元线性回归：\",score)\n"
   ]
  },
  {
   "cell_type": "code",
   "execution_count": null,
   "metadata": {},
   "outputs": [],
   "source": [
    "# K近邻回归\n",
    "# Q：计算量大，要调参（适用于小的数据集）\n",
    "clf = KNeighborsRegressor(n_neighbors=8)\n",
    "clf.fit(train_data,train_target)\n",
    "score = mean_squared_error(test_target,clf.predict(test_data))\n",
    "print(\"k近邻居：\",score)"
   ]
  },
  {
   "cell_type": "code",
   "execution_count": null,
   "metadata": {},
   "outputs": [],
   "source": [
    "# 随机森林\n",
    "# Q：结果不易解释，但精度高\n",
    "clf = RandomForestRegressor(n_estimators=200)\n",
    "clf.fit(train_data,train_target)\n",
    "score = mean_squared_error(test_target,clf.predict(test_data))\n",
    "print(\"随机森林\",score)"
   ]
  },
  {
   "cell_type": "code",
   "execution_count": null,
   "metadata": {},
   "outputs": [],
   "source": [
    "# LGB回归模型\n",
    "# 谷歌框架\n",
    "clf = lgb.LGBMRegressor(\n",
    "    learning_rate=0.1,\n",
    "    max_depth=-1,\n",
    "    n_estimators=5000,\n",
    "    random_state=2019,\n",
    "    objective='regression',\n",
    "    boosting_type='gbdt'\n",
    ")\n",
    "clf.fit(X=train_data,y=train_target,eval_metric='MSE',verbose=50)\n",
    "score = mean_squared_error(test_target,clf.predict(test_data))\n",
    "print(\"lgb:\",score)"
   ]
  },
  {
   "cell_type": "code",
   "execution_count": null,
   "metadata": {},
   "outputs": [],
   "source": []
  }
 ]
}