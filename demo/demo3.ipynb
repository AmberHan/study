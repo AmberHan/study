{
 "metadata": {
  "language_info": {
   "codemirror_mode": {
    "name": "ipython",
    "version": 3
   },
   "file_extension": ".py",
   "mimetype": "text/x-python",
   "name": "python",
   "nbconvert_exporter": "python",
   "pygments_lexer": "ipython3",
   "version": "3.6.7-final"
  },
  "orig_nbformat": 2,
  "kernelspec": {
   "name": "python36764bita6160d89142c4f3c8af2bd90534491c1",
   "display_name": "Python 3.6.7 64-bit"
  }
 },
 "nbformat": 4,
 "nbformat_minor": 2,
 "cells": [
  {
   "cell_type": "code",
   "execution_count": null,
   "metadata": {},
   "outputs": [],
   "source": [
    "# 特征优化\n",
    "import pandas as pd\n",
    "train_data_file = \"../data/zhengqi_train.txt\"\n",
    "test_data_file = \"../data/zhengqi_test.txt\"\n",
    "train_data = pd.read_csv(train_data_file,sep='\\t',encoding='utf-8')\n",
    "test_data = pd.read_csv(test_data_file,sep='\\t',encoding='utf-8')"
   ]
  },
  {
   "cell_type": "code",
   "execution_count": null,
   "metadata": {},
   "outputs": [],
   "source": [
    "epsilon = 1e-5\n",
    "# 组合特征优化\n",
    "func_dict ={\n",
    "    'add':lambda x, y: x+y,\n",
    "    'mins':lambda x, y: x - y,\n",
    "    'div':lambda x, y: x/(y+epsilon),\n",
    "    'multi':lambda x, y:x*y\n",
    "}"
   ]
  },
  {
   "cell_type": "code",
   "execution_count": null,
   "metadata": {},
   "outputs": [],
   "source": [
    "# 特征构造函数\n",
    "def auto_features_make(train_data,test_data,func_dict,col_list):\n",
    "    train_data,test_data = train_data.copy(),test_data.copy()\n",
    "    for col_i in col_list:\n",
    "        for col_j in col_list:\n",
    "            for func_name,func in func_dict.items():\n",
    "                for data in [train_data,test_data]:\n",
    "                    func_features = func(data[col_i],data[col_j])\n",
    "                    col_func_features  = '-'.join([col_i,func_name,col_j])\n",
    "                    data[col_func_features] = func_features\n",
    "    return train_data,test_data"
   ]
  },
  {
   "cell_type": "code",
   "execution_count": null,
   "metadata": {},
   "outputs": [],
   "source": [
    "# 数据降维\n",
    "train_data2 ,test_data2 = auto_features_make(\n",
    "    train_data,test_data,func_dict,col_list=test_data.columns\n",
    ")\n",
    "# PCA降维度\n",
    "from sklearn.decomposition import PCA\n",
    "pca = PCA(n_components=500)\n",
    "train_data2_pca = pca.fit_transform(train_data2.iloc[:,0:-1])\n",
    "test_data2_pca = pca.transform(test_data2)\n",
    "train_data2_pca = pd.DataFrame(train_data2_pca)\n",
    "test_data2_pca = pd.DataFrame(test_data2_pca)\n",
    "train_data2_pca['target'] = train_data2['target']\n",
    "X_train2 = train_data2[test_data2.columns].values\n",
    "y_train = train_data2['target']"
   ]
  },
  {
   "cell_type": "code",
   "execution_count": null,
   "metadata": {},
   "outputs": [],
   "source": [
    "# LGB 进行模型训练和评估\n",
    "from sklearn.model_selection import KFold\n",
    "from sklearn.metrics import mean_absolute_error\n",
    "import lightgbm as lgb\n",
    "import numpy as pd\n",
    "\n",
    "# 5折交叉验证\n",
    "Folds = 5\n",
    "kf = KFold(n_splits=Folds,shuffle=True,random_state=2019)\n",
    "# 记录训练和预测MSE\n",
    "MSE_dict = {'train_mse':[],'test_mse':[]}\n",
    "# 线下训练预测\n",
    "for i, (train_index,test_index) in enumerate(kf.split(X_train2)):\n",
    "    lgb_reg = lgb.LGBMRegressor(\n",
    "        learning_rate=0.01,\n",
    "        max_depth=-1,\n",
    "        n_estimators=5000,\n",
    "        boosting_type = 'gbdt',\n",
    "        random_state=2019,\n",
    "        objective='regression',\n",
    "    )\n",
    "    # 切分训练和预测集\n",
    "    X_train_Kfold = X_train2[train_index]\n",
    "    X_test_Kfold = X_train2[test_index]\n",
    "    y_train_Kfold = y_train[train_index]\n",
    "    y_test_Kfold = y_train[test_index]\n",
    "    # 训练模型\n",
    "    lgb_reg.fit(X=X_train_Kfold,\n",
    "                y=y_train_Kfold,\n",
    "                eval_set=[(X_train_Kfold,y_train_Kfold),\n",
    "                (X_test_Kfold,y_test_Kfold)],\n",
    "                eval_names=['Train','Test'],\n",
    "                early_stopping_rounds=100,\n",
    "                eval_metric='MSE',\n",
    "                verbose=50\n",
    "    )\n",
    "    # 训练集和测试集预测\n",
    "    y_train_Kfold_predict = lgb_reg.predict(\n",
    "        X_train_Kfold,num_iteration=lgb_reg.best_iteration_\n",
    "    )\n",
    "    y_test_Kfold_predict = lgb_reg.predict(\n",
    "        X_test_Kfold,num_iteration=lgb_reg.best_iteration_\n",
    "    )\n",
    "    print('第{}折训练和预测 训练MSE预测'.format(i))\n",
    "    train_mse = mean_squarted_errer(y_train_Kfold_predict,y_train_Kfold)\n",
    "    print('训练MSE：',train_mse,'\\n')\n",
    "    test_mse = mean_squarted_errer(y_test_Kfold_predict,y_test_Kfold)\n",
    "    print('训练MSE：',test_mse,'\\n')\n",
    "    MSE_dict['train_mse'].append(train_mse)\n",
    "    MSE_dict['test_mse'].append(test_mse)\n",
    "    print('\\n','预测MSE\\n',MSE_dict['train_mse'],'\\n',n.mean(MSE_dict['train_mse']),'\\n')\n",
    "    print('\\n','预测MSE\\n',MSE_dict['test_mse'],'\\n',n.mean(MSE_dict['test_mse']),'\\n')"
   ]
  },
  {
   "cell_type": "code",
   "execution_count": null,
   "metadata": {},
   "outputs": [],
   "source": []
  }
 ]
}