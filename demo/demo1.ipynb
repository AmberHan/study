{
 "metadata": {
  "language_info": {
   "codemirror_mode": {
    "name": "ipython",
    "version": 3
   },
   "file_extension": ".py",
   "mimetype": "text/x-python",
   "name": "python",
   "nbconvert_exporter": "python",
   "pygments_lexer": "ipython3",
   "version": "3.6.7-final"
  },
  "orig_nbformat": 2,
  "kernelspec": {
   "name": "python36764bita6160d89142c4f3c8af2bd90534491c1",
   "display_name": "Python 3.6.7 64-bit"
  }
 },
 "nbformat": 4,
 "nbformat_minor": 2,
 "cells": [
  {
   "cell_type": "code",
   "execution_count": null,
   "metadata": {},
   "outputs": [],
   "source": [
    "# 数据处理，制图\n",
    "import numpy as np\n",
    "import pandas as pd\n",
    "import matplotlib as plt\n",
    "import seaborn as sns\n",
    "import warnings\n",
    "warnings.filterwarnings(\"ignore\")\n",
    "# 回归包：线性回归；k紧邻回归;决策树回归；随机森林回归；支持向量机；lightGBM\n",
    "from sklearn.linear_model import  LinearRegression\n",
    "from sklearn.neighbors import KNeighborsRegressor\n",
    "from sklearn.tree import DecisionTreeRegressor\n",
    "from sklearn.ensemble import RandomForestRegressor\n",
    "from sklearn.svm import SVR\n",
    "import lightgbm as lgb"
   ]
  },
  {
   "cell_type": "code",
   "execution_count": null,
   "metadata": {},
   "outputs": [],
   "source": [
    "# 切分数据和评价指标\n",
    "from sklearn.model_selection import train_test_split\n",
    "from sklearn.metrics import mean_squared_error\n",
    "from sklearn.linear_model import SGDRegressor\n",
    "# from sklearn.model_selection import learning_curve\n",
    "# from sklearn.model_selection import ShuffleSplit"
   ]
  },
  {
   "cell_type": "code",
   "execution_count": null,
   "metadata": {},
   "outputs": [],
   "source": [
    "# 数据读取\n",
    "train_data_file = \"../data/zhengqi_train.txt\"\n",
    "test_data_file = \"../data/zhengqi_test.txt\"\n",
    "train_data = pd.read_csv(train_data_file,sep='\\t',encoding='utf-8')\n",
    "test_data = pd.read_csv(test_data_file,sep='\\t',encoding='utf-8')\n"
   ]
  },
  {
   "cell_type": "code",
   "execution_count": null,
   "metadata": {},
   "outputs": [],
   "source": [
    "# 归一化处理,先fit拟合到train的方差和均值，再对测试与训练集进行归一化（保证模型的统一）\n",
    "from sklearn import preprocessing\n",
    "feature_colunms = [col for col in train_data.columns if col not in ['target']]\n",
    "min_max_scaler = preprocessing.MinMaxScaler()\n",
    "min_max_scaler = min_max_scaler.fit(train_data[feature_colunms])\n",
    "train_data_scaler = min_max_scaler.transform(train_data[feature_colunms])\n",
    "test_data_scaler = min_max_scaler.transform(test_data[feature_colunms])\n",
    "train_data_scaler = pd.DataFrame(train_data_scaler)\n",
    "train_data_scaler.columns = feature_colunms\n",
    "test_data_scaler = pd.DataFrame(test_data_scaler)\n",
    "test_data_scaler.columns = feature_colunms\n",
    "train_data_scaler['target'] = train_data['target']\n"
   ]
  },
  {
   "cell_type": "code",
   "execution_count": null,
   "metadata": {},
   "outputs": [],
   "source": [
    "# PCA降维\n",
    "from sklearn.decomposition import PCA\n",
    "# 保留16个主成分\n",
    "pca = PCA(n_components=16)\n",
    "# 剔除target\n",
    "new_train_pca_16 = pca.fit_transform(train_data_scaler.iloc[:,0:-1])\n",
    "new_test_pca_16 = pca.transform(test_data_scaler)\n",
    "new_train_pca_16 = pd.DataFrame(new_train_pca_16)\n",
    "new_train_pca_16['target'] = train_data_scaler['target']\n",
    "new_test_pca_16 = pd.DataFrame(new_test_pca_16)\n"
   ]
  },
  {
   "cell_type": "code",
   "execution_count": null,
   "metadata": {},
   "outputs": [],
   "source": [
    "# 切分数据集\n",
    "new_train_pca_16 =new_train_pca_16.fillna(0)\n",
    "train = new_train_pca_16[new_test_pca_16.columns]\n",
    "target = new_train_pca_16['target']\n",
    "train_data,test_data,train_target,test_target= train_test_split(train,target,test_size=0.2,random_state=0)"
   ]
  },
  {
   "cell_type": "code",
   "execution_count": null,
   "metadata": {},
   "outputs": [],
   "source": [
    "# 欠拟合模拟\n",
    "clf = SGDRegressor(max_iter=500,tol=1e-2)\n",
    "clf.fit(train_data,train_target)\n",
    "score_train = mean_squared_error(train_target,clf.predict(train_data))\n",
    "score_test = mean_squared_error(test_target,clf.predict(test_data))\n",
    "print(\"SGB train MSE:\",score_train)\n",
    "print(\"SGB test MSE:\",score_test)\n"
   ]
  },
  {
   "cell_type": "code",
   "execution_count": null,
   "metadata": {},
   "outputs": [],
   "source": [
    "# 过拟合模拟\n",
    "from sklearn.preprocessing import PolynomialFeatures\n",
    "poly = PolynomialFeatures(5)\n",
    "train_data_poly = poly.fit_transform(train_data)\n",
    "test_data_poly = poly.transform(test_data)\n",
    "clf = SGDRegressor(max_iter=1000,tol=1e-3)\n",
    "clf.fit(train_data_poly,train_target)\n",
    "score_train = mean_squared_error(train_target,clf.predict(train_data_poly))\n",
    "score_test = mean_squared_error(test_target,clf.predict(test_data_poly))\n",
    "print(\"SGB train MSE:\",score_train)\n",
    "print(\"SGB test MSE:\",score_test)"
   ]
  },
  {
   "cell_type": "code",
   "execution_count": null,
   "metadata": {},
   "outputs": [],
   "source": [
    "# 正常拟合\n",
    "from sklearn.preprocessing import PolynomialFeatures\n",
    "poly = PolynomialFeatures(3)\n",
    "train_data_poly = poly.fit_transform(train_data)\n",
    "test_data_poly = poly.transform(test_data)\n",
    "clf = SGDRegressor(max_iter=1000,tol=1e-3)\n",
    "clf.fit(train_data_poly,train_target)\n",
    "score_train = mean_squared_error(train_target,clf.predict(train_data_poly))\n",
    "score_test = mean_squared_error(test_target,clf.predict(test_data_poly))\n",
    "print(\"SGB train MSE:\",score_train)\n",
    "print(\"SGB test MSE:\",score_test)"
   ]
  },
  {
   "cell_type": "code",
   "execution_count": null,
   "metadata": {},
   "outputs": [],
   "source": [
    "# 如何解决过拟合\n",
    "# 正则化（L2）\n",
    "poly = PolynomialFeatures(3)\n",
    "train_data_poly = poly.fit_transform(train_data)\n",
    "test_data_poly = poly.transform(test_data)\n",
    "clf = SGDRegressor(max_iter=1000,tol=1e-3,penalty='L2',alpha=0.0001)\n",
    "# 联合L1和L2范数加权正则化\n",
    "# clf = SGDRegressor(max_iter=1000,tol=1e-3,penalty='elasticnet',alpha=0.0001)\n",
    "clf.fit(train_data_poly,train_target)\n",
    "score_train = mean_squared_error(train_target,clf.predict(train_data_poly))\n",
    "score_test = mean_squared_error(test_target,clf.predict(test_data_poly))\n",
    "print(\"SGB train MSE:\",score_train)\n",
    "print(\"SGB test MSE:\",score_test)"
   ]
  },
  {
   "cell_type": "code",
   "execution_count": null,
   "metadata": {},
   "outputs": [],
   "source": [
    "# 模型校验\n",
    "# 5折交叉验证;划分为5个子集，5次循环，每次（4个训练，一个测试）\n",
    "from sklearn.model_selection import KFold\n",
    "kf = KFold(n_splits=5)\n",
    "for k,(train_index,test_index) in enumerate(kf.split(train)):\n",
    "    train_data,test_data,train_target,test_target = train.values[train_index],train.values[test_index],target[train_index],target[test_index]\n",
    "    clf = SGDRegressor(max_iter=1000,tol=1e-3)\n",
    "    clf.fit(train_data,train_target)\n",
    "    score_train = mean_squared_error(train_target,clf.predict(train_data))\n",
    "    score_test = mean_squared_error(test_target,clf.predict(test_data))\n",
    "    print(k,\"折\",\"SGB train MSE:\",score_train)\n",
    "    print(k,\"折\",\"SGB test MSE:\",score_test,'\\n')"
   ]
  },
  {
   "cell_type": "code",
   "execution_count": null,
   "metadata": {
    "tags": []
   },
   "outputs": [],
   "source": [
    "# 留一法\n",
    "from sklearn.model_selection import LeaveOneOut\n",
    "loo = LeaveOneOut()\n",
    "num = 100\n",
    "for k,(train_index,test_index) in enumerate(loo.split(train)):\n",
    "    train_data,test_data,train_target,test_target = train.values[train_index],train.values[test_index],target[train_index],target[test_index]\n",
    "    clf = SGDRegressor(max_iter=1000,tol=1e-3)\n",
    "    clf.fit(train_data,train_target)\n",
    "    score_train = mean_squared_error(train_target,clf.predict(train_data))\n",
    "    score_test = mean_squared_error(test_target,clf.predict(test_data))\n",
    "    print(k,\"个\",\"SGB train MSE:\",score_train)\n",
    "    print(k,\"个\",\"SGB test MSE:\",score_test,'\\n')\n",
    "    if k>30:\n",
    "        break\n"
   ]
  },
  {
   "cell_type": "code",
   "execution_count": null,
   "metadata": {},
   "outputs": [],
   "source": [
    "# 留P法交叉验证\n",
    "from sklearn.model_selection import LeavePOut\n",
    "lpo = LeavePOut(p=10)\n",
    "num = 100\n",
    "for k,(train_index,test_index) in enumerate(loo.split(train)):\n",
    "    train_data,test_data,train_target,test_target = train.values[train_index],train.values[test_index],target[train_index],target[test_index]\n",
    "    clf = SGDRegressor(max_iter=1000,tol=1e-3)\n",
    "    clf.fit(train_data,train_target)\n",
    "    score_train = mean_squared_error(train_target,clf.predict(train_data))\n",
    "    score_test = mean_squared_error(test_target,clf.predict(test_data))\n",
    "    print(k,\" 10个\",\"SGB train MSE:\",score_train)\n",
    "    print(k,\" 10个\",\"SGB test MSE:\",score_test,'\\n')\n",
    "    if k>30:\n",
    "        break"
   ]
  },
  {
   "cell_type": "code",
   "execution_count": null,
   "metadata": {},
   "outputs": [],
   "source": [
    "# 模型超参空间与调参\n",
    "# 随机森林，网格搜索方法调参\n",
    "from sklearn.model_selection import GridSearchCV\n",
    "from sklearn.model_selection import RandomizedSearchCV\n",
    "from sklearn.ensemble import RandomForestRegressor\n",
    "from sklearn.model_selection import train_test_split #分割数据\n",
    "train_data,test_data,train_target,test_target = train_test_split(\n",
    "    train,target,test_size=0.2,random_state =0\n",
    ")\n",
    "randomForestRegressor = RandomForestRegressor()\n",
    "# parameters ={'n_estimators':[50,100,200,300],'max_depth':[1,2,3,4,5]}\n",
    "# clf = RandomizedSearchCV(randomForestRegressor,parameters,cv=5)\n",
    "parameters ={'n_estimators':[50,100,200],'max_depth':[1,2,3]}\n",
    "clf = GridSearchCV(randomForestRegressor,parameters,cv=5)\n",
    "clf.fit(train_data,train_target)\n",
    "score_test = mean_squared_error(test_target,clf.predict(test_data))\n",
    "print(\"网格搜索 MSE:\",score_train)\n",
    "sorted(clf.cv_results_.keys())"
   ]
  },
  {
   "cell_type": "code",
   "execution_count": null,
   "metadata": {},
   "outputs": [],
   "source": [
    "# LGB调参\n",
    "clf = lgb.LGBMRegressor()\n",
    "parameters ={'learning_rate':[0.01,0.1,1],'n_estimators':[20,40]}\n",
    "clf = GridSearchCV(clf,parameters,cv=5)\n",
    "clf.fit(train_data,train_target)\n",
    "print(\"最好参数:\",clf.best_params_)\n",
    "score_test = mean_squared_error(test_target,clf.predict(test_data))\n",
    "print(\"LGB网格搜索:\",score_train)"
   ]
  },
  {
   "cell_type": "code",
   "execution_count": null,
   "metadata": {},
   "outputs": [],
   "source": []
  }
 ]
}