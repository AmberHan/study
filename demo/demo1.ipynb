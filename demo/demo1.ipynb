{
 "metadata": {
  "language_info": {
   "codemirror_mode": {
    "name": "ipython",
    "version": 3
   },
   "file_extension": ".py",
   "mimetype": "text/x-python",
   "name": "python",
   "nbconvert_exporter": "python",
   "pygments_lexer": "ipython3",
   "version": "3.6.7-final"
  },
  "orig_nbformat": 2,
  "kernelspec": {
   "name": "python36764bita6160d89142c4f3c8af2bd90534491c1",
   "display_name": "Python 3.6.7 64-bit"
  }
 },
 "nbformat": 4,
 "nbformat_minor": 2,
 "cells": [
  {
   "cell_type": "code",
   "execution_count": null,
   "metadata": {},
   "outputs": [],
   "source": [
    "# 数据处理，制图\n",
    "import numpy as np\n",
    "import pandas as pd\n",
    "import matplotlib as plt\n",
    "import seaborn as sns\n",
    "import warnings\n",
    "warnings.filterwarnings(\"ignore\")\n",
    "# 回归包：线性回归；k紧邻回归;决策树回归；随机森林回归；支持向量机；lightGBM\n",
    "from sklearn.linear_model import  LinearRegression\n",
    "from sklearn.neighbors import KNeighborsRegressor\n",
    "from sklearn.tree import DecisionTreeRegressor\n",
    "from sklearn.ensemble import RandomForestRegressor\n",
    "from sklearn.svm import SVR\n",
    "import lightgbm as lgb"
   ]
  },
  {
   "cell_type": "code",
   "execution_count": null,
   "metadata": {},
   "outputs": [],
   "source": [
    "# 切分数据和评价指标\n",
    "from sklearn.model_selection import train_test_split\n",
    "from sklearn.metrics import mean_squared_error\n",
    "from sklearn.linear_model import SGDRegressor\n",
    "# from sklearn.model_selection import learning_curve\n",
    "# from sklearn.model_selection import ShuffleSplit"
   ]
  },
  {
   "cell_type": "code",
   "execution_count": null,
   "metadata": {},
   "outputs": [],
   "source": [
    "# 数据读取\n",
    "train_data_file = \"../data/zhengqi_train.txt\"\n",
    "test_data_file = \"../data/zhengqi_test.txt\"\n",
    "train_data = pd.read_csv(train_data_file,sep='\\t',encoding='utf-8')\n",
    "test_data = pd.read_csv(test_data_file,sep='\\t',encoding='utf-8')\n"
   ]
  },
  {
   "cell_type": "code",
   "execution_count": null,
   "metadata": {},
   "outputs": [],
   "source": [
    "# 归一化处理,先fit拟合到train的方差和均值，再对测试与训练集进行归一化（保证模型的统一）\n",
    "from sklearn import preprocessing\n",
    "feature_colunms = [col for col in train_data.columns if col not in ['target']]\n",
    "min_max_scaler = preprocessing.MinMaxScaler()\n",
    "min_max_scaler = min_max_scaler.fit(train_data[feature_colunms])\n",
    "train_data_scaler = min_max_scaler.transform(train_data[feature_colunms])\n",
    "test_data_scaler = min_max_scaler.transform(test_data[feature_colunms])\n",
    "train_data_scaler = pd.DataFrame(train_data_scaler)\n",
    "train_data_scaler.columns = feature_colunms\n",
    "test_data_scaler = pd.DataFrame(test_data_scaler)\n",
    "test_data_scaler.columns = feature_colunms\n",
    "train_data_scaler['target'] = train_data['target']\n"
   ]
  },
  {
   "cell_type": "code",
   "execution_count": null,
   "metadata": {},
   "outputs": [],
   "source": [
    "# PCA降维\n",
    "from sklearn.decomposition import PCA\n",
    "# 保留16个主成分\n",
    "pca = PCA(n_components=16)\n",
    "# 剔除target\n",
    "new_train_pca_16 = pca.fit_transform(train_data_scaler.iloc[:,0:-1])\n",
    "new_test_pca_16 = pca.transform(test_data_scaler)\n",
    "new_train_pca_16 = pd.DataFrame(new_train_pca_16)\n",
    "new_train_pca_16['target'] = train_data_scaler['target']\n",
    "new_test_pca_16 = pd.DataFrame(new_test_pca_16)\n"
   ]
  },
  {
   "cell_type": "code",
   "execution_count": null,
   "metadata": {},
   "outputs": [],
   "source": [
    "# 切分数据集\n",
    "new_train_pca_16 =new_train_pca_16.fillna(0)\n",
    "train = new_train_pca_16[new_test_pca_16.columns]\n",
    "target = new_train_pca_16['target']\n",
    "train_data,test_data,train_target,test_target= train_test_split(train,target,test_size=0.2,random_state=0)"
   ]
  },
  {
   "cell_type": "code",
   "execution_count": null,
   "metadata": {},
   "outputs": [],
   "source": [
    "# 欠拟合模拟\n",
    "clf = SGDRegressor(max_iter=500,tol=1e-2)\n",
    "clf.fit(train_data,train_target)\n",
    "score_train = mean_squared_error(train_target,clf.predict(train_data))\n",
    "score_test = mean_squared_error(test_target,clf.predict(test_data))\n",
    "print(\"SGB train MSE:\",score_train)\n",
    "print(\"SGB test MSE:\",score_test)\n"
   ]
  },
  {
   "cell_type": "code",
   "execution_count": null,
   "metadata": {},
   "outputs": [],
   "source": [
    "# 过拟合模拟\n",
    "from sklearn.preprocessing import PolynomialFeatures\n",
    "poly = PolynomialFeatures(5)\n",
    "train_data_poly = poly.fit_transform(train_data)\n",
    "test_data_poly = poly.transform(test_data)\n",
    "clf = SGDRegressor(max_iter=1000,tol=1e-3)\n",
    "clf.fit(train_data_poly,train_target)\n",
    "score_train = mean_squared_error(train_target,clf.predict(train_data_poly))\n",
    "score_test = mean_squared_error(test_target,clf.predict(test_data_poly))\n",
    "print(\"SGB train MSE:\",score_train)\n",
    "print(\"SGB test MSE:\",score_test)"
   ]
  },
  {
   "cell_type": "code",
   "execution_count": null,
   "metadata": {},
   "outputs": [],
   "source": [
    "# 正常拟合\n",
    "from sklearn.preprocessing import PolynomialFeatures\n",
    "poly = PolynomialFeatures(3)\n",
    "train_data_poly = poly.fit_transform(train_data)\n",
    "test_data_poly = poly.transform(test_data)\n",
    "clf = SGDRegressor(max_iter=1000,tol=1e-3)\n",
    "clf.fit(train_data_poly,train_target)\n",
    "score_train = mean_squared_error(train_target,clf.predict(train_data_poly))\n",
    "score_test = mean_squared_error(test_target,clf.predict(test_data_poly))\n",
    "print(\"SGB train MSE:\",score_train)\n",
    "print(\"SGB test MSE:\",score_test)"
   ]
  },
  {
   "cell_type": "code",
   "execution_count": null,
   "metadata": {},
   "outputs": [],
   "source": [
    "# 如何解决过拟合\n",
    "# 正则化（L2）\n",
    "poly = PolynomialFeatures(3)\n",
    "train_data_poly = poly.fit_transform(train_data)\n",
    "test_data_poly = poly.transform(test_data)\n",
    "clf = SGDRegressor(max_iter=1000,tol=1e-3,penalty='L2',alpha=0.0001)\n",
    "# 联合L1和L2范数加权正则化\n",
    "# clf = SGDRegressor(max_iter=1000,tol=1e-3,penalty='elasticnet',alpha=0.0001)\n",
    "clf.fit(train_data_poly,train_target)\n",
    "score_train = mean_squared_error(train_target,clf.predict(train_data_poly))\n",
    "score_test = mean_squared_error(test_target,clf.predict(test_data_poly))\n",
    "print(\"SGB train MSE:\",score_train)\n",
    "print(\"SGB test MSE:\",score_test)"
   ]
  },
  {
   "cell_type": "code",
   "execution_count": null,
   "metadata": {},
   "outputs": [],
   "source": [
    "# 模型校验\n",
    "# 5折交叉验证;划分为5个子集，5次循环，每次（4个训练，一个测试）\n",
    "from sklearn.model_selection import KFold\n",
    "kf = KFold(n_splits=5)\n",
    "for k,(train_index,test_index) in enumerate(kf.split(train)):\n",
    "    train_data,test_data,train_target,test_target = train.values[train_index],train.values[test_index],target[train_index],target[test_index]\n",
    "    clf = SGDRegressor(max_iter=1000,tol=1e-3)\n",
    "    clf.fit(train_data,train_target)\n",
    "    score_train = mean_squared_error(train_target,clf.predict(train_data))\n",
    "    score_test = mean_squared_error(test_target,clf.predict(test_data))\n",
    "    print(k,\"折\",\"SGB train MSE:\",score_train)\n",
    "    print(k,\"折\",\"SGB test MSE:\",score_test,'\\n')"
   ]
  },
  {
   "cell_type": "code",
   "execution_count": null,
   "metadata": {
    "tags": []
   },
   "outputs": [],
   "source": [
    "# 留一法\n",
    "from sklearn.model_selection import LeaveOneOut\n",
    "loo = LeaveOneOut()\n",
    "num = 100\n",
    "for k,(train_index,test_index) in enumerate(loo.split(train)):\n",
    "    train_data,test_data,train_target,test_target = train.values[train_index],train.values[test_index],target[train_index],target[test_index]\n",
    "    clf = SGDRegressor(max_iter=1000,tol=1e-3)\n",
    "    clf.fit(train_data,train_target)\n",
    "    score_train = mean_squared_error(train_target,clf.predict(train_data))\n",
    "    score_test = mean_squared_error(test_target,clf.predict(test_data))\n",
    "    print(k,\"个\",\"SGB train MSE:\",score_train)\n",
    "    print(k,\"个\",\"SGB test MSE:\",score_test,'\\n')\n",
    "    if k>30:\n",
    "        break\n"
   ]
  },
  {
   "cell_type": "code",
   "execution_count": 35,
   "metadata": {},
   "outputs": [
    {
     "output_type": "stream",
     "name": "stdout",
     "text": [
      "0  10个 SGB train MSE: 0.141589610326405\n",
      "0  10个 SGB test MSE: 0.011950247889628162 \n",
      "\n",
      "1  10个 SGB train MSE: 0.1415549895815349\n",
      "1  10个 SGB test MSE: 0.12599965958586606 \n",
      "\n",
      "2  10个 SGB train MSE: 0.14154402696152402\n",
      "2  10个 SGB test MSE: 0.037397321105189486 \n",
      "\n",
      "3  10个 SGB train MSE: 0.14157920068459187\n",
      "3  10个 SGB test MSE: 0.0037706832607911256 \n",
      "\n",
      "4  10个 SGB train MSE: 0.14170542600264072\n",
      "4  10个 SGB test MSE: 0.013065837012642474 \n",
      "\n",
      "5  10个 SGB train MSE: 0.14149969314180227\n",
      "5  10个 SGB test MSE: 0.13617504149350784 \n",
      "\n",
      "6  10个 SGB train MSE: 0.1415515802873285\n",
      "6  10个 SGB test MSE: 0.025152175814853645 \n",
      "\n",
      "7  10个 SGB train MSE: 0.14094377491123947\n",
      "7  10个 SGB test MSE: 0.000782984733135422 \n",
      "\n",
      "8  10个 SGB train MSE: 0.14159194881331255\n",
      "8  10个 SGB test MSE: 0.09163086160239475 \n",
      "\n",
      "9  10个 SGB train MSE: 0.14160465173351186\n",
      "9  10个 SGB test MSE: 0.05272489073076243 \n",
      "\n",
      "10  10个 SGB train MSE: 0.14168381993896964\n",
      "10  10个 SGB test MSE: 0.006617579772373373 \n",
      "\n",
      "11  10个 SGB train MSE: 0.1415958344395051\n",
      "11  10个 SGB test MSE: 0.02178373935447293 \n",
      "\n",
      "12  10个 SGB train MSE: 0.14077134752891474\n",
      "12  10个 SGB test MSE: 0.0958724384259085 \n",
      "\n",
      "13  10个 SGB train MSE: 0.14153830137607235\n",
      "13  10个 SGB test MSE: 0.24965959674569987 \n",
      "\n",
      "14  10个 SGB train MSE: 0.14164225978564676\n",
      "14  10个 SGB test MSE: 0.007208570682162836 \n",
      "\n",
      "15  10个 SGB train MSE: 0.14166547353605735\n",
      "15  10个 SGB test MSE: 0.05315085758997056 \n",
      "\n",
      "16  10个 SGB train MSE: 0.14164063226300508\n",
      "16  10个 SGB test MSE: 0.09136746437200143 \n",
      "\n",
      "17  10个 SGB train MSE: 0.14165218724025863\n",
      "17  10个 SGB test MSE: 0.03371159427286406 \n",
      "\n",
      "18  10个 SGB train MSE: 0.1410733191237599\n",
      "18  10个 SGB test MSE: 0.009358318844412057 \n",
      "\n",
      "19  10个 SGB train MSE: 0.14153254042428676\n",
      "19  10个 SGB test MSE: 0.09872670670722859 \n",
      "\n",
      "20  10个 SGB train MSE: 0.14150722592999854\n",
      "20  10个 SGB test MSE: 0.007690233789153933 \n",
      "\n",
      "21  10个 SGB train MSE: 0.1408709124121272\n",
      "21  10个 SGB test MSE: 0.020601403529770853 \n",
      "\n",
      "22  10个 SGB train MSE: 0.1416155365301239\n",
      "22  10个 SGB test MSE: 7.006752960354362e-06 \n",
      "\n",
      "23  10个 SGB train MSE: 0.14162484146162013\n",
      "23  10个 SGB test MSE: 0.13335664644576284 \n",
      "\n",
      "24  10个 SGB train MSE: 0.1415188593200216\n",
      "24  10个 SGB test MSE: 0.3243204253131996 \n",
      "\n",
      "25  10个 SGB train MSE: 0.14137961368846005\n",
      "25  10个 SGB test MSE: 0.43587292270113653 \n",
      "\n",
      "26  10个 SGB train MSE: 0.14083505569888635\n",
      "26  10个 SGB test MSE: 0.16194056597919837 \n",
      "\n",
      "27  10个 SGB train MSE: 0.14154256419256497\n",
      "27  10个 SGB test MSE: 0.15187294981072222 \n",
      "\n",
      "28  10个 SGB train MSE: 0.14147147799487825\n",
      "28  10个 SGB test MSE: 0.615608582921398 \n",
      "\n",
      "29  10个 SGB train MSE: 0.14093813588304296\n",
      "29  10个 SGB test MSE: 0.07495090301877329 \n",
      "\n",
      "30  10个 SGB train MSE: 0.1416070232035348\n",
      "30  10个 SGB test MSE: 0.05383466865047365 \n",
      "\n",
      "31  10个 SGB train MSE: 0.14160423670126043\n",
      "31  10个 SGB test MSE: 0.003147300412244708 \n",
      "\n"
     ]
    }
   ],
   "source": [
    "# 留P法交叉验证\n",
    "from sklearn.model_selection import LeavePOut\n",
    "lpo = LeavePOut(p=10)\n",
    "num = 100\n",
    "for k,(train_index,test_index) in enumerate(loo.split(train)):\n",
    "    train_data,test_data,train_target,test_target = train.values[train_index],train.values[test_index],target[train_index],target[test_index]\n",
    "    clf = SGDRegressor(max_iter=1000,tol=1e-3)\n",
    "    clf.fit(train_data,train_target)\n",
    "    score_train = mean_squared_error(train_target,clf.predict(train_data))\n",
    "    score_test = mean_squared_error(test_target,clf.predict(test_data))\n",
    "    print(k,\" 10个\",\"SGB train MSE:\",score_train)\n",
    "    print(k,\" 10个\",\"SGB test MSE:\",score_test,'\\n')\n",
    "    if k>30:\n",
    "        break"
   ]
  },
  {
   "cell_type": "code",
   "execution_count": null,
   "metadata": {},
   "outputs": [],
   "source": []
  }
 ]
}